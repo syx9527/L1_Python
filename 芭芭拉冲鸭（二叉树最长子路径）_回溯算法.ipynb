{
 "cells": [
  {
   "cell_type": "markdown",
   "metadata": {},
   "source": [
    "# 芭芭拉冲鸭(二叉树最长路径)\n",
    "芭芭拉得到了一颗无根树（即不允许存在环，节点之间的关系是无向的，不区分父点与子节点，没有特定的根节点），树上的每一个节点都有一个特定的颜色（R:红色,G:绿色,B:蓝色），任意两个节点之间的距离为1。如果一条边连接的两个节点颜色不同则芭芭拉可以再这两个节点间冲刺。但是不能走回头路，比如说从x冲刺到y，就不能再回到x。\n",
    "输入要求：\n",
    "第一行输入一个正整数n,表示二叉树的n个节点。\n",
    "第二行输入n个英文字符，是'RGB'中任意一个，表示节点的颜色是'R'、'G'或者'B'\n",
    "后面的n-1行，每行输入两个节点的编号，表示两个节点之间有连接，比如:1 2 或者 3 4\n",
    "输出要求\n",
    "整数，小鸭可以在这个二叉树上冲刺的最远距离。\n",
    "例如：输入 5 RRGBR 1 2  2 3  3 4  4 5 输出 3\n",
    "因为 1、2 颜色相同不能冲刺，从2开始冲刺，经过路径 2 3 4 5 ，总距离为 3"
   ]
  },
  {
   "cell_type": "code",
   "execution_count": 9,
   "metadata": {
    "ExecuteTime": {
     "end_time": "2022-09-13T12:24:25.029108Z",
     "start_time": "2022-09-13T12:24:24.946387Z"
    }
   },
   "outputs": [
    {
     "name": "stdout",
     "output_type": "stream",
     "text": [
      "[1, 2]\n",
      "[1, 2, 4]\n",
      "[1, 2, 4, 9]\n",
      "[1, 2, 4, 9, 13]\n",
      "[1, 2, 4, 9]\n",
      "[1, 2, 4]\n",
      "[1, 2]\n",
      "[1, 2, 5]\n",
      "[1, 2, 5, 11]\n",
      "[1, 2, 5]\n",
      "[1, 2, 5, 12]\n",
      "[1, 2, 5]\n",
      "[1, 2]\n",
      "[1]\n",
      "[1, 3]\n",
      "[1, 3, 6]\n",
      "[1, 3]\n",
      "[1, 3, 7]\n",
      "[1, 3, 7, 8]\n",
      "[1, 3, 7]\n",
      "[1, 3]\n",
      "[1]\n",
      "[2, 4]\n",
      "[2, 4, 9]\n",
      "[2, 4, 9, 13]\n",
      "[2, 4, 9]\n",
      "[2, 4]\n",
      "[2]\n",
      "[2, 5]\n",
      "[2, 5, 11]\n",
      "[2, 5]\n",
      "[2, 5, 12]\n",
      "[2, 5]\n",
      "[2]\n",
      "[3, 6]\n",
      "[3]\n",
      "[3, 7]\n",
      "[3, 7, 8]\n",
      "[3, 7]\n",
      "[3]\n",
      "[4, 9]\n",
      "[4, 9, 13]\n",
      "[4, 9]\n",
      "[4]\n",
      "[5, 11]\n",
      "[5]\n",
      "[5, 12]\n",
      "[5]\n",
      "[7, 8]\n",
      "[7]\n",
      "[9, 13]\n",
      "[9]\n",
      "4\n"
     ]
    }
   ],
   "source": [
    "# 样例1\n",
    "# 5\n",
    "# RRGBR\n",
    "# 1 2\n",
    "# 2 3\n",
    "# 3 4\n",
    "# 4 5\n",
    "\n",
    "# 样例2\n",
    "# 13\n",
    "# RGGBBGGRGBRRRG\n",
    "# 1 2\n",
    "# 1 3\n",
    "# 3 6\n",
    "# 3 7\n",
    "# 2 4\n",
    "# 2 5\n",
    "# 4 9\n",
    "# 4 10\n",
    "# 5 11\n",
    "# 5 12\n",
    "# 9 13\n",
    "# 7 8\n",
    "\n",
    "# 接收输入\n",
    "# n = int(input())\n",
    "# colors = input()\n",
    "# edges = []\n",
    "# for i in range(n-1):\n",
    "#     edge = tuple(list(map(int,input().split())).sort())\n",
    "#     edges.append(edge)\n",
    "\n",
    "# 手写输入做测试\n",
    "n = 13\n",
    "colors = 'RGBBBGRGRBRRG'\n",
    "input_edges = [\n",
    "    (1,2),\n",
    "    (1,3),\n",
    "    (3,6),\n",
    "    (3,7),\n",
    "    (7,8),\n",
    "    (2,4),\n",
    "    (2,5),\n",
    "    (4,9),\n",
    "    (4,10),\n",
    "    (5,11),\n",
    "    (5,12),\n",
    "    (9,13),\n",
    "]\n",
    "\n",
    "# 以下才是程序正文\n",
    "\n",
    "start = [x[0] for x in input_edges]\n",
    "end = [x[1] for x in input_edges]\n",
    "color_dict = {k:v for k,v in zip(range(1,n+1),colors)}\n",
    "\n",
    "res = []\n",
    "def find_next_node(cur,paths):\n",
    "    if cur not in start: # 终止条件，找不到往下的路，输出最终路径，终止程序\n",
    "        paths_copy = paths[:]  # 这里必须深拷贝再装入结果容器，因为list的特性，后面计算的paths结果会覆盖前面的结果，导致res里的元素都被覆盖。\n",
    "        res.append(paths_copy)\n",
    "        return\n",
    "    else:\n",
    "        for index in range(len(start)):\n",
    "            if cur == start[index] and color_dict[start[index]] != color_dict[end[index]] and end[index] not in paths:\n",
    "                paths.append(end[index])\n",
    "                print(paths)\n",
    "                find_next_node(end[index],paths) # 递归找路，直到达成终止条件\n",
    "                paths.pop()  # 回溯一级，避免前面选择的路径污染后面的选择\n",
    "                print(paths)\n",
    "                \n",
    "for i in range(1, n+1):   # 迭代找路径，从 1 到 n 以所有节点为起点找出所有可能的路径。\n",
    "    paths = [i]\n",
    "    find_next_node(i,paths)\n",
    "    \n",
    "# print(res)\n",
    "max_path = max(res,key = len) # 找出最长的路径\n",
    "print(len(max_path)-1)"
   ]
  },
  {
   "cell_type": "code",
   "execution_count": null,
   "metadata": {},
   "outputs": [],
   "source": []
  }
 ],
 "metadata": {
  "kernelspec": {
   "display_name": "Python 3",
   "language": "python",
   "name": "python3"
  },
  "language_info": {
   "codemirror_mode": {
    "name": "ipython",
    "version": 3
   },
   "file_extension": ".py",
   "mimetype": "text/x-python",
   "name": "python",
   "nbconvert_exporter": "python",
   "pygments_lexer": "ipython3",
   "version": "3.7.0"
  },
  "toc": {
   "base_numbering": 1,
   "nav_menu": {},
   "number_sections": true,
   "sideBar": true,
   "skip_h1_title": false,
   "title_cell": "Table of Contents",
   "title_sidebar": "Contents",
   "toc_cell": false,
   "toc_position": {},
   "toc_section_display": true,
   "toc_window_display": false
  },
  "varInspector": {
   "cols": {
    "lenName": 16,
    "lenType": 16,
    "lenVar": 40
   },
   "kernels_config": {
    "python": {
     "delete_cmd_postfix": "",
     "delete_cmd_prefix": "del ",
     "library": "var_list.py",
     "varRefreshCmd": "print(var_dic_list())"
    },
    "r": {
     "delete_cmd_postfix": ") ",
     "delete_cmd_prefix": "rm(",
     "library": "var_list.r",
     "varRefreshCmd": "cat(var_dic_list()) "
    }
   },
   "types_to_exclude": [
    "module",
    "function",
    "builtin_function_or_method",
    "instance",
    "_Feature"
   ],
   "window_display": false
  },
  "vp": {
   "vp_config_version": "1.0.0",
   "vp_menu_width": 273,
   "vp_note_display": false,
   "vp_note_width": 0,
   "vp_position": {
    "width": 278
   },
   "vp_section_display": false,
   "vp_signature": "VisualPython"
  }
 },
 "nbformat": 4,
 "nbformat_minor": 2
}
