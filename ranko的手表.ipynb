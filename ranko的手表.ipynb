{
 "cells": [
  {
   "cell_type": "markdown",
   "metadata": {},
   "source": [
    "'''\n",
    "\n",
    "ranko 的手表坏了，正常应该显示 xx:xx 的形式（4 个数字），比如下午 1 点半应该显示 13:30 。\n",
    "\n",
    "但现在经常会有一些数字有概率无法显示。\n",
    "\n",
    "ranko 在 t1时刻看了下时间，过了一段时间在 t2时刻看了下时间。她想知道， t1 和 t2这两个时刻之间相距的时间的最大值和最小值是多少？\n",
    "\n",
    "保证 t1在 t2之前（且 t1和 t2等）。t1和 t2在同一天的 00:00 到 23:59 之间。\n",
    "\n",
    "输入描述：\n",
    "\n",
    "两行输入两个时间，为 xx:xx 的形式。其中 xx 为数字或者字符 ‘?’ ，问号代表这个数字没有显示。\n",
    "\n",
    "假定输入是合法的。\n",
    "\n",
    "输出描述：\n",
    "\n",
    "一行输出两个整数，分别代表 t1 和 t2 相距时间的最小值和最大值（单位分钟）。\n",
    "\n",
    "'''"
   ]
  },
  {
   "cell_type": "code",
   "execution_count": 11,
   "metadata": {
    "ExecuteTime": {
     "end_time": "2022-09-13T11:34:25.118187Z",
     "start_time": "2022-09-13T11:32:54.746577Z"
    },
    "code_folding": []
   },
   "outputs": [
    {
     "name": "stdout",
     "output_type": "stream",
     "text": [
      "1 1439\n"
     ]
    }
   ],
   "source": [
    "# time1 = '1?:??'\n",
    "# time2 = '1?:??'\n",
    "\n",
    "# time1 = '1?:??'\n",
    "# time2 = '?2:??'\n",
    "\n",
    "# time1 = '??:??'\n",
    "# time2 = '??:??'\n",
    "\n",
    "# time1 = input()\n",
    "# time2 = input()\n",
    "\n",
    "time1 = time1.replace(':','')\n",
    "time2 = time2.replace(':','')\n",
    "\n",
    "def make_possible_value(time): \n",
    "    for index,number in enumerate(time):\n",
    "        if index == 0:\n",
    "            if number == '?':\n",
    "                first = list(range(0,3))\n",
    "            else:\n",
    "                first = [int(number)]\n",
    "        elif index == 1:\n",
    "            if number == '?':\n",
    "                second = list(range(0,10))\n",
    "            else:\n",
    "                second = [int(number)]\n",
    "        elif index == 2:\n",
    "            if number == '?': \n",
    "                third = list(range(0,6))\n",
    "            else:\n",
    "                third = [int(number)]\n",
    "        else:\n",
    "            if number == '?': \n",
    "                fourth = list(range(0,10))\n",
    "            else:\n",
    "                fourth = [int(number)]\n",
    "    return (first, second, third, fourth)\n",
    "\n",
    "value1 = make_possible_value(time1)\n",
    "value2 = make_possible_value(time2)\n",
    "\n",
    "from itertools import product\n",
    "time1_combination = [''.join(list(map(str,x))) for x  in product(value1[0], value1[1], value1[2], value1[3]) if int(str(x[0]) + str(x[1]))<=23]\n",
    "time2_combination = [''.join(list(map(str,x))) for x  in product(value2[0], value2[1], value2[2], value2[3]) if int(str(x[0]) + str(x[1]))<=23]\n",
    "\n",
    "def time2minute(string):\n",
    "    res = 0\n",
    "    res += int(string[0])*10*60\n",
    "    res += int(string[1])*60       \n",
    "    res += int(string[2])*10             \n",
    "    res += int(string[3])\n",
    "    return res\n",
    "\n",
    "min_interval = 1440\n",
    "max_interval = 0\n",
    "for item in product(time1_combination, time2_combination):\n",
    "    if time2minute(item[1]) > time2minute(item[0]):\n",
    "        if time2minute(item[1]) - time2minute(item[0]) > max_interval:\n",
    "            max_interval = time2minute(item[1]) - time2minute(item[0])\n",
    "        if time2minute(item[1]) - time2minute(item[0]) < min_interval:\n",
    "            min_interval = time2minute(item[1]) - time2minute(item[0])\n",
    "\n",
    "print(min_interval, max_interval)"
   ]
  },
  {
   "cell_type": "code",
   "execution_count": 6,
   "metadata": {
    "ExecuteTime": {
     "end_time": "2022-09-13T11:13:58.913414Z",
     "start_time": "2022-09-13T11:13:58.882429Z"
    }
   },
   "outputs": [
    {
     "data": {
      "text/plain": [
       "[('a', 'a', 'a'),\n",
       " ('a', 'a', 'b'),\n",
       " ('a', 'a', 'c'),\n",
       " ('a', 'b', 'a'),\n",
       " ('a', 'b', 'b'),\n",
       " ('a', 'b', 'c'),\n",
       " ('a', 'c', 'a'),\n",
       " ('a', 'c', 'b'),\n",
       " ('a', 'c', 'c'),\n",
       " ('b', 'a', 'a'),\n",
       " ('b', 'a', 'b'),\n",
       " ('b', 'a', 'c'),\n",
       " ('b', 'b', 'a'),\n",
       " ('b', 'b', 'b'),\n",
       " ('b', 'b', 'c'),\n",
       " ('b', 'c', 'a'),\n",
       " ('b', 'c', 'b'),\n",
       " ('b', 'c', 'c'),\n",
       " ('c', 'a', 'a'),\n",
       " ('c', 'a', 'b'),\n",
       " ('c', 'a', 'c'),\n",
       " ('c', 'b', 'a'),\n",
       " ('c', 'b', 'b'),\n",
       " ('c', 'b', 'c'),\n",
       " ('c', 'c', 'a'),\n",
       " ('c', 'c', 'b'),\n",
       " ('c', 'c', 'c')]"
      ]
     },
     "execution_count": 6,
     "metadata": {},
     "output_type": "execute_result"
    }
   ],
   "source": [
    "# product 函数的用法，同时迭代多个序列。\n",
    "from itertools import product\n",
    "lia  = ['a','b','c']\n",
    "lib  = ['a','b','c']\n",
    "lic  = ['a','b','c']\n",
    "li = list(product(lia,lib,lic))\n",
    "li"
   ]
  },
  {
   "cell_type": "code",
   "execution_count": null,
   "metadata": {},
   "outputs": [],
   "source": []
  }
 ],
 "metadata": {
  "kernelspec": {
   "display_name": "Python 3",
   "language": "python",
   "name": "python3"
  },
  "language_info": {
   "codemirror_mode": {
    "name": "ipython",
    "version": 3
   },
   "file_extension": ".py",
   "mimetype": "text/x-python",
   "name": "python",
   "nbconvert_exporter": "python",
   "pygments_lexer": "ipython3",
   "version": "3.7.0"
  },
  "toc": {
   "base_numbering": 1,
   "nav_menu": {},
   "number_sections": true,
   "sideBar": true,
   "skip_h1_title": false,
   "title_cell": "Table of Contents",
   "title_sidebar": "Contents",
   "toc_cell": false,
   "toc_position": {},
   "toc_section_display": true,
   "toc_window_display": false
  },
  "varInspector": {
   "cols": {
    "lenName": 16,
    "lenType": 16,
    "lenVar": 40
   },
   "kernels_config": {
    "python": {
     "delete_cmd_postfix": "",
     "delete_cmd_prefix": "del ",
     "library": "var_list.py",
     "varRefreshCmd": "print(var_dic_list())"
    },
    "r": {
     "delete_cmd_postfix": ") ",
     "delete_cmd_prefix": "rm(",
     "library": "var_list.r",
     "varRefreshCmd": "cat(var_dic_list()) "
    }
   },
   "types_to_exclude": [
    "module",
    "function",
    "builtin_function_or_method",
    "instance",
    "_Feature"
   ],
   "window_display": false
  },
  "vp": {
   "vp_config_version": "1.0.0",
   "vp_menu_width": 273,
   "vp_note_display": false,
   "vp_note_width": 0,
   "vp_position": {
    "width": 278
   },
   "vp_section_display": false,
   "vp_signature": "VisualPython"
  }
 },
 "nbformat": 4,
 "nbformat_minor": 5
}
